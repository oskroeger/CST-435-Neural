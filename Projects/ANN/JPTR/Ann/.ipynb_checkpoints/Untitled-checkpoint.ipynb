{
 "cells": [
  {
   "cell_type": "code",
   "execution_count": 5,
   "id": "8764bba0-a29a-4675-b9fa-7b958630f0e2",
   "metadata": {},
   "outputs": [],
   "source": [
    "import pandas as pd\n",
    "import numpy as np\n",
    "import torch\n",
    "import torch.nn as nn\n",
    "import torch.optim as optim\n",
    "from sklearn.preprocessing import StandardScaler\n",
    "from sklearn.model_selection import train_test_split\n",
    "import matplotlib.pyplot as plt"
   ]
  },
  {
   "cell_type": "markdown",
   "id": "e7ee4e9a-a55d-468a-9dfc-7067f32ac356",
   "metadata": {},
   "source": [
    "All imports are shown above"
   ]
  },
  {
   "cell_type": "code",
   "execution_count": 6,
   "id": "91e68d6c-fa1e-4dab-b3e9-dc17b50bbd2c",
   "metadata": {},
   "outputs": [],
   "source": [
    "data_path = 'all_season.csv'\n",
    "players_df = pd.read_csv(data_path)"
   ]
  },
  {
   "cell_type": "markdown",
   "id": "a1f53742-a84a-47d8-a97e-2a274d5adba3",
   "metadata": {},
   "source": [
    "Loading the dataset"
   ]
  },
  {
   "cell_type": "code",
   "execution_count": 8,
   "id": "44de8d27-3d40-4624-8745-e052a95d9c93",
   "metadata": {},
   "outputs": [],
   "source": [
    "selected_years = ['2015-16', '2016-17', '2017-18', '2018-19', '2019-20']\n",
    "pool_df = players_df[players_df['season'].isin(selected_years)]"
   ]
  },
  {
   "cell_type": "markdown",
   "id": "0e6a3894-877f-487b-a0ad-c3f3a943999d",
   "metadata": {},
   "source": [
    "Filtering the dataframe so that it only includes players who played\n",
    "between 2015-2016 and 2019-2020"
   ]
  },
  {
   "cell_type": "code",
   "execution_count": 9,
   "id": "c43c26ad-1c41-41eb-aff6-18c2c0f6d699",
   "metadata": {},
   "outputs": [],
   "source": [
    "pool_df = pool_df.sample(n=100, random_state=42)"
   ]
  },
  {
   "cell_type": "markdown",
   "id": "26a1bde8-e02f-4128-8a0d-3b2acd4356b9",
   "metadata": {},
   "source": [
    "This piece of code randomly selects 100 players from the filtered dataset."
   ]
  },
  {
   "cell_type": "code",
   "execution_count": 10,
   "id": "13a3a8c6-dcb4-4ce2-8df1-9092f10a6775",
   "metadata": {},
   "outputs": [],
   "source": [
    "def calculate_role_scores(df):\n",
    "    df['scorer_score'] = df['pts']\n",
    "    df['playmaker_score'] = df['ast']\n",
    "    df['rebounder_score'] = df['reb']\n",
    "    df['defender_score'] = df['net_rating']\n",
    "    df['utility_score'] = (df['pts'] + df['reb'] + df['ast']) / 3  # Average instead of sum\n",
    "    df['impact_score'] = df['usg_pct'] * df['net_rating']\n",
    "    df['size_factor'] = df['player_height'] * df['player_weight']\n",
    "    return df"
   ]
  },
  {
   "cell_type": "markdown",
   "id": "b0fa7795-e838-4fe1-b9bb-a89e9f3e0444",
   "metadata": {},
   "source": [
    "This function takes in information on the frame of data and then creates new columns that reflect which piece of the basketball player we are looking at. For instance, pts for affecting the score, and assists affecting the playmaking score. The other factor here we created are more advanced statistics like the utility score which is a summation of all three, shooting, rebounding, and assists."
   ]
  },
  {
   "cell_type": "code",
   "execution_count": 11,
   "id": "3904ff52-5a9c-49b7-8be4-9724c33e3b3c",
   "metadata": {},
   "outputs": [],
   "source": [
    "scored_df = calculate_role_scores(pool_df)"
   ]
  },
  {
   "cell_type": "markdown",
   "id": "2ab7dbab-d999-4ec1-ba06-da447350c915",
   "metadata": {},
   "source": [
    "This function is straightforward just preparing the data using the function that we created above"
   ]
  },
  {
   "cell_type": "code",
   "execution_count": 12,
   "id": "2dfd0d8f-1169-4e66-957b-6ecd801548e8",
   "metadata": {},
   "outputs": [],
   "source": [
    "features = scored_df[['scorer_score', 'playmaker_score', 'rebounder_score', \n",
    "                      'defender_score', 'utility_score', 'impact_score', 'size_factor']].values\n",
    "scaler = StandardScaler()\n",
    "features_scaled = scaler.fit_transform(features)\n",
    "X_tensor = torch.tensor(features_scaled, dtype=torch.float32)\n",
    "class RoleSpecificMLP(nn.Module):\n",
    "    def __init__(self, input_size, hidden_sizes):\n",
    "        super(RoleSpecificMLP, self).__init__()\n",
    "        self.layers = nn.Sequential(\n",
    "            nn.Linear(input_size, hidden_sizes[0]),\n",
    "            nn.ReLU(),\n",
    "            nn.Dropout(0.3),\n",
    "            nn.Linear(hidden_sizes[0], hidden_sizes[1]),\n",
    "            nn.ReLU(),\n",
    "            nn.Dropout(0.3),\n",
    "            nn.Linear(hidden_sizes[1], 1)  # Single output for ranking\n",
    "        )\n",
    "    def forward(self, x):\n",
    "        return self.layers(x)\n",
    "input_size = X_tensor.shape[1]\n",
    "hidden_sizes = [128, 64]"
   ]
  },
  {
   "cell_type": "markdown",
   "id": "5ce2cc80-6e7e-40ab-9e46-7e2a8752465a",
   "metadata": {},
   "source": [
    "Here we are still preparing the data for the neural network that we are going to use. Features becomes a dataset of the raw data for the 100 players selected within the timeframe. Next we create an object scaler, which we then call on features to scale are data to a mean of 0 and a standard deviation of 1. Finally we call torch.tensor to prep the data for the pytorch libraries. "
   ]
  },
  {
   "cell_type": "code",
   "execution_count": 13,
   "id": "1136d95f-c46d-45c3-9e24-cca0fe93298a",
   "metadata": {},
   "outputs": [],
   "source": [
    "def train_role_model(X_tensor, target_score, role_name):\n",
    "    y_tensor = torch.tensor(target_score, dtype=torch.float32).view(-1, 1)\n",
    "    X_train, X_test, y_train, y_test = train_test_split(X_tensor, y_tensor, test_size=0.2, random_state=42)\n",
    "    model = RoleSpecificMLP(input_size, hidden_sizes)\n",
    "    criterion = nn.MSELoss()\n",
    "    optimizer = optim.Adam(model.parameters(), lr=0.001)\n",
    "\n",
    "    epochs = 100\n",
    "    for epoch in range(epochs):\n",
    "        model.train()\n",
    "        outputs = model(X_train)\n",
    "        loss = criterion(outputs, y_train)\n",
    "        optimizer.zero_grad()\n",
    "        loss.backward()\n",
    "        optimizer.step()\n",
    "        \n",
    "        if (epoch + 1) % 10 == 0:\n",
    "            print(f'{role_name} - Epoch [{epoch + 1}/{epochs}], Loss: {loss.item():.4f}')\n",
    "\n",
    "    model.eval()\n",
    "    with torch.no_grad():\n",
    "        predictions = model(X_tensor).numpy().flatten()\n",
    "        scored_df[f'{role_name}_predicted_score'] = predictions\n",
    "\n",
    "    grid_scores = np.array(predictions).reshape(10, 10)\n",
    "    return grid_scores, scored_df[[f'{role_name}_predicted_score', 'player_name', 'team_abbreviation', 'scorer_score', \n",
    "                                   'playmaker_score', 'rebounder_score', 'defender_score', 'utility_score']]\n"
   ]
  },
  {
   "cell_type": "markdown",
   "id": "d394ff44-c03e-4bda-87b9-cc715a50779c",
   "metadata": {},
   "source": [
    "This function begins by converting the target scores into a PyTorch tensor and reshaping it for compatibility with the model. The function then splits the input feature tensor into training and testing sets, using 80% of the data for training and 20% for evaluation. An instance of the RoleSpecificMLP model is created, and the Mean Squared Error (MSE) loss function is defined alongside the Adam (Adaptive movement estimation) optimizer for efficient parameter updates. The training process runs for 100 epochs, during which the model learns to minimize the loss between predicted and actual scores through forward and backward passes. Throughout the training, it logs the loss every ten epochs to monitor performance. After training, the model is evaluated using the entire feature dataset, and predictions are generated without gradient tracking. These predictions are stored in the original DataFrame, alongside relevant player information. Finally, the function reshapes the predictions into a 10x10 grid format for visualization and returns both the grid scores and the updated DataFrame, making it useful for analyzing player performance in various roles."
   ]
  },
  {
   "cell_type": "code",
   "execution_count": 14,
   "id": "5e5b9f7e-9441-4e8d-a8d7-22da791956cc",
   "metadata": {},
   "outputs": [
    {
     "ename": "NameError",
     "evalue": "name 'RoleSpecificMLP' is not defined",
     "output_type": "error",
     "traceback": [
      "\u001b[0;31m---------------------------------------------------------------------------\u001b[0m",
      "\u001b[0;31mNameError\u001b[0m                                 Traceback (most recent call last)",
      "Cell \u001b[0;32mIn[14], line 1\u001b[0m\n\u001b[0;32m----> 1\u001b[0m scorer_grid, scorer_candidates \u001b[38;5;241m=\u001b[39m \u001b[43mtrain_role_model\u001b[49m\u001b[43m(\u001b[49m\u001b[43mX_tensor\u001b[49m\u001b[43m,\u001b[49m\u001b[43m \u001b[49m\u001b[43mscored_df\u001b[49m\u001b[43m[\u001b[49m\u001b[38;5;124;43m'\u001b[39;49m\u001b[38;5;124;43mscorer_score\u001b[39;49m\u001b[38;5;124;43m'\u001b[39;49m\u001b[43m]\u001b[49m\u001b[38;5;241;43m.\u001b[39;49m\u001b[43mvalues\u001b[49m\u001b[43m,\u001b[49m\u001b[43m \u001b[49m\u001b[38;5;124;43m'\u001b[39;49m\u001b[38;5;124;43mScorer\u001b[39;49m\u001b[38;5;124;43m'\u001b[39;49m\u001b[43m)\u001b[49m\n\u001b[1;32m      2\u001b[0m playmaker_grid, playmaker_candidates \u001b[38;5;241m=\u001b[39m train_role_model(X_tensor, scored_df[\u001b[38;5;124m'\u001b[39m\u001b[38;5;124mplaymaker_score\u001b[39m\u001b[38;5;124m'\u001b[39m]\u001b[38;5;241m.\u001b[39mvalues, \u001b[38;5;124m'\u001b[39m\u001b[38;5;124mPlaymaker\u001b[39m\u001b[38;5;124m'\u001b[39m)\n\u001b[1;32m      3\u001b[0m rebounder_grid, rebounder_candidates \u001b[38;5;241m=\u001b[39m train_role_model(X_tensor, scored_df[\u001b[38;5;124m'\u001b[39m\u001b[38;5;124mrebounder_score\u001b[39m\u001b[38;5;124m'\u001b[39m]\u001b[38;5;241m.\u001b[39mvalues, \u001b[38;5;124m'\u001b[39m\u001b[38;5;124mRebounder\u001b[39m\u001b[38;5;124m'\u001b[39m)\n",
      "Cell \u001b[0;32mIn[13], line 4\u001b[0m, in \u001b[0;36mtrain_role_model\u001b[0;34m(X_tensor, target_score, role_name)\u001b[0m\n\u001b[1;32m      2\u001b[0m y_tensor \u001b[38;5;241m=\u001b[39m torch\u001b[38;5;241m.\u001b[39mtensor(target_score, dtype\u001b[38;5;241m=\u001b[39mtorch\u001b[38;5;241m.\u001b[39mfloat32)\u001b[38;5;241m.\u001b[39mview(\u001b[38;5;241m-\u001b[39m\u001b[38;5;241m1\u001b[39m, \u001b[38;5;241m1\u001b[39m)\n\u001b[1;32m      3\u001b[0m X_train, X_test, y_train, y_test \u001b[38;5;241m=\u001b[39m train_test_split(X_tensor, y_tensor, test_size\u001b[38;5;241m=\u001b[39m\u001b[38;5;241m0.2\u001b[39m, random_state\u001b[38;5;241m=\u001b[39m\u001b[38;5;241m42\u001b[39m)\n\u001b[0;32m----> 4\u001b[0m model \u001b[38;5;241m=\u001b[39m \u001b[43mRoleSpecificMLP\u001b[49m(input_size, hidden_sizes)\n\u001b[1;32m      5\u001b[0m criterion \u001b[38;5;241m=\u001b[39m nn\u001b[38;5;241m.\u001b[39mMSELoss()\n\u001b[1;32m      6\u001b[0m optimizer \u001b[38;5;241m=\u001b[39m optim\u001b[38;5;241m.\u001b[39mAdam(model\u001b[38;5;241m.\u001b[39mparameters(), lr\u001b[38;5;241m=\u001b[39m\u001b[38;5;241m0.001\u001b[39m)\n",
      "\u001b[0;31mNameError\u001b[0m: name 'RoleSpecificMLP' is not defined"
     ]
    }
   ],
   "source": [
    "scorer_grid, scorer_candidates = train_role_model(X_tensor, scored_df['scorer_score'].values, 'Scorer')\n",
    "playmaker_grid, playmaker_candidates = train_role_model(X_tensor, scored_df['playmaker_score'].values, 'Playmaker')\n",
    "rebounder_grid, rebounder_candidates = train_role_model(X_tensor, scored_df['rebounder_score'].values, 'Rebounder')\n",
    "defender_grid, defender_candidates = train_role_model(X_tensor, scored_df['defender_score'].values, 'Defender')\n",
    "utility_grid, utility_candidates = train_role_model(X_tensor, scored_df['utility_score'].values, 'Utility')\n"
   ]
  },
  {
   "cell_type": "markdown",
   "id": "13d0510b-18d9-4eff-a0a3-48992e2137e0",
   "metadata": {},
   "source": [
    "Here we call the model to train for all 5 of the roles on our team"
   ]
  },
  {
   "cell_type": "code",
   "execution_count": 15,
   "id": "08976bd0-9679-473f-8642-e7959197a1af",
   "metadata": {},
   "outputs": [
    {
     "ename": "NameError",
     "evalue": "name 'scorer_candidates' is not defined",
     "output_type": "error",
     "traceback": [
      "\u001b[0;31m---------------------------------------------------------------------------\u001b[0m",
      "\u001b[0;31mNameError\u001b[0m                                 Traceback (most recent call last)",
      "Cell \u001b[0;32mIn[15], line 3\u001b[0m\n\u001b[1;32m      1\u001b[0m assigned_players \u001b[38;5;241m=\u001b[39m \u001b[38;5;28mset\u001b[39m()\n\u001b[1;32m      2\u001b[0m optimal_team \u001b[38;5;241m=\u001b[39m []\n\u001b[0;32m----> 3\u001b[0m role_order \u001b[38;5;241m=\u001b[39m [(\u001b[38;5;124m'\u001b[39m\u001b[38;5;124mScorer\u001b[39m\u001b[38;5;124m'\u001b[39m, \u001b[43mscorer_candidates\u001b[49m), (\u001b[38;5;124m'\u001b[39m\u001b[38;5;124mPlaymaker\u001b[39m\u001b[38;5;124m'\u001b[39m, playmaker_candidates),\n\u001b[1;32m      4\u001b[0m               (\u001b[38;5;124m'\u001b[39m\u001b[38;5;124mRebounder\u001b[39m\u001b[38;5;124m'\u001b[39m, rebounder_candidates), (\u001b[38;5;124m'\u001b[39m\u001b[38;5;124mDefender\u001b[39m\u001b[38;5;124m'\u001b[39m, defender_candidates), (\u001b[38;5;124m'\u001b[39m\u001b[38;5;124mUtility\u001b[39m\u001b[38;5;124m'\u001b[39m, utility_candidates)]\n\u001b[1;32m      6\u001b[0m selected_positions \u001b[38;5;241m=\u001b[39m {}\n\u001b[1;32m      7\u001b[0m \u001b[38;5;28;01mfor\u001b[39;00m role_name, candidates \u001b[38;5;129;01min\u001b[39;00m role_order:\n",
      "\u001b[0;31mNameError\u001b[0m: name 'scorer_candidates' is not defined"
     ]
    }
   ],
   "source": [
    "all_candidates = pd.concat([scorer_candidates, playmaker_candidates, rebounder_candidates, defender_candidates, utility_candidates])\n",
    "assigned_players = set()\n",
    "optimal_team = []\n",
    "role_order = [\n",
    "    ('Scorer', scorer_candidates),\n",
    "    ('Playmaker', playmaker_candidates),\n",
    "    ('Rebounder', rebounder_candidates),\n",
    "    ('Defender', defender_candidates),\n",
    "    ('Utility', utility_candidates)\n",
    "]\n",
    "selected_positions = {}\n",
    "for role_name, candidates in role_order:\n",
    "    candidates = candidates.sort_values(by=f'{role_name}_predicted_score', ascending=False)\n",
    "    for _, player in candidates.iterrows():\n",
    "        if player['player_name'] not in assigned_players:\n",
    "            player['predicted_role'] = role_name\n",
    "            optimal_team.append(player)\n",
    "            assigned_players.add(player['player_name'])\n",
    "            grid_index = candidates.index.get_loc(player.name)\n",
    "            selected_positions[role_name] = (grid_index // 10, grid_index % 10, player['player_name'])\n",
    "            break\n"
   ]
  },
  {
   "cell_type": "markdown",
   "id": "339a3064-de7d-42bf-8cfc-84b5204b1802",
   "metadata": {},
   "source": [
    "The code snippet systematically selects players for specific basketball roles to form an optimal team based on predicted scores. It begins by defining an ordered list of roles and their corresponding candidate DataFrames. For each role, candidates are sorted by their predicted scores in descending order, ensuring the highest-rated players are prioritized. The inner loop iterates through the sorted candidates, checking if a player has already been assigned a role. If a player is available, they are assigned the current role, added to the optimal_team, and marked as assigned to prevent duplicates. The loop breaks after selecting one player for each role, ensuring a single assignment per position. This process continues for all defined roles, resulting in an optimal team composed of the best players for each specific role, effectively leveraging their predicted performance metrics."
   ]
  },
  {
   "cell_type": "code",
   "execution_count": 16,
   "id": "5b3db15d-124e-4b52-b311-1a52006d3fab",
   "metadata": {},
   "outputs": [
    {
     "name": "stdout",
     "output_type": "stream",
     "text": [
      "\n",
      "Optimal 5-Man Team Based on Separate Role-Specific Models:\n"
     ]
    },
    {
     "ename": "KeyError",
     "evalue": "\"None of [Index(['player_name', 'team_abbreviation', 'scorer_score', 'playmaker_score',\\n       'rebounder_score', 'defender_score', 'utility_score', 'predicted_role'],\\n      dtype='object')] are in the [columns]\"",
     "output_type": "error",
     "traceback": [
      "\u001b[0;31m---------------------------------------------------------------------------\u001b[0m",
      "\u001b[0;31mKeyError\u001b[0m                                  Traceback (most recent call last)",
      "Cell \u001b[0;32mIn[16], line 3\u001b[0m\n\u001b[1;32m      1\u001b[0m optimal_team_df \u001b[38;5;241m=\u001b[39m pd\u001b[38;5;241m.\u001b[39mDataFrame(optimal_team)\n\u001b[1;32m      2\u001b[0m \u001b[38;5;28mprint\u001b[39m(\u001b[38;5;124m\"\u001b[39m\u001b[38;5;130;01m\\n\u001b[39;00m\u001b[38;5;124mOptimal 5-Man Team Based on Separate Role-Specific Models:\u001b[39m\u001b[38;5;124m\"\u001b[39m)\n\u001b[0;32m----> 3\u001b[0m \u001b[38;5;28mprint\u001b[39m(\u001b[43moptimal_team_df\u001b[49m\u001b[43m[\u001b[49m\u001b[43m[\u001b[49m\u001b[38;5;124;43m'\u001b[39;49m\u001b[38;5;124;43mplayer_name\u001b[39;49m\u001b[38;5;124;43m'\u001b[39;49m\u001b[43m,\u001b[49m\u001b[43m \u001b[49m\u001b[38;5;124;43m'\u001b[39;49m\u001b[38;5;124;43mteam_abbreviation\u001b[39;49m\u001b[38;5;124;43m'\u001b[39;49m\u001b[43m,\u001b[49m\u001b[43m \u001b[49m\u001b[38;5;124;43m'\u001b[39;49m\u001b[38;5;124;43mscorer_score\u001b[39;49m\u001b[38;5;124;43m'\u001b[39;49m\u001b[43m,\u001b[49m\u001b[43m \u001b[49m\u001b[38;5;124;43m'\u001b[39;49m\u001b[38;5;124;43mplaymaker_score\u001b[39;49m\u001b[38;5;124;43m'\u001b[39;49m\u001b[43m,\u001b[49m\u001b[43m \u001b[49m\n\u001b[1;32m      4\u001b[0m \u001b[43m                       \u001b[49m\u001b[38;5;124;43m'\u001b[39;49m\u001b[38;5;124;43mrebounder_score\u001b[39;49m\u001b[38;5;124;43m'\u001b[39;49m\u001b[43m,\u001b[49m\u001b[43m \u001b[49m\u001b[38;5;124;43m'\u001b[39;49m\u001b[38;5;124;43mdefender_score\u001b[39;49m\u001b[38;5;124;43m'\u001b[39;49m\u001b[43m,\u001b[49m\u001b[43m \u001b[49m\u001b[38;5;124;43m'\u001b[39;49m\u001b[38;5;124;43mutility_score\u001b[39;49m\u001b[38;5;124;43m'\u001b[39;49m\u001b[43m,\u001b[49m\u001b[43m \u001b[49m\u001b[38;5;124;43m'\u001b[39;49m\u001b[38;5;124;43mpredicted_role\u001b[39;49m\u001b[38;5;124;43m'\u001b[39;49m\u001b[43m]\u001b[49m\u001b[43m]\u001b[49m)\n",
      "File \u001b[0;32m~/.local/lib/python3.10/site-packages/pandas/core/frame.py:4108\u001b[0m, in \u001b[0;36mDataFrame.__getitem__\u001b[0;34m(self, key)\u001b[0m\n\u001b[1;32m   4106\u001b[0m     \u001b[38;5;28;01mif\u001b[39;00m is_iterator(key):\n\u001b[1;32m   4107\u001b[0m         key \u001b[38;5;241m=\u001b[39m \u001b[38;5;28mlist\u001b[39m(key)\n\u001b[0;32m-> 4108\u001b[0m     indexer \u001b[38;5;241m=\u001b[39m \u001b[38;5;28;43mself\u001b[39;49m\u001b[38;5;241;43m.\u001b[39;49m\u001b[43mcolumns\u001b[49m\u001b[38;5;241;43m.\u001b[39;49m\u001b[43m_get_indexer_strict\u001b[49m\u001b[43m(\u001b[49m\u001b[43mkey\u001b[49m\u001b[43m,\u001b[49m\u001b[43m \u001b[49m\u001b[38;5;124;43m\"\u001b[39;49m\u001b[38;5;124;43mcolumns\u001b[39;49m\u001b[38;5;124;43m\"\u001b[39;49m\u001b[43m)\u001b[49m[\u001b[38;5;241m1\u001b[39m]\n\u001b[1;32m   4110\u001b[0m \u001b[38;5;66;03m# take() does not accept boolean indexers\u001b[39;00m\n\u001b[1;32m   4111\u001b[0m \u001b[38;5;28;01mif\u001b[39;00m \u001b[38;5;28mgetattr\u001b[39m(indexer, \u001b[38;5;124m\"\u001b[39m\u001b[38;5;124mdtype\u001b[39m\u001b[38;5;124m\"\u001b[39m, \u001b[38;5;28;01mNone\u001b[39;00m) \u001b[38;5;241m==\u001b[39m \u001b[38;5;28mbool\u001b[39m:\n",
      "File \u001b[0;32m~/.local/lib/python3.10/site-packages/pandas/core/indexes/base.py:6200\u001b[0m, in \u001b[0;36mIndex._get_indexer_strict\u001b[0;34m(self, key, axis_name)\u001b[0m\n\u001b[1;32m   6197\u001b[0m \u001b[38;5;28;01melse\u001b[39;00m:\n\u001b[1;32m   6198\u001b[0m     keyarr, indexer, new_indexer \u001b[38;5;241m=\u001b[39m \u001b[38;5;28mself\u001b[39m\u001b[38;5;241m.\u001b[39m_reindex_non_unique(keyarr)\n\u001b[0;32m-> 6200\u001b[0m \u001b[38;5;28;43mself\u001b[39;49m\u001b[38;5;241;43m.\u001b[39;49m\u001b[43m_raise_if_missing\u001b[49m\u001b[43m(\u001b[49m\u001b[43mkeyarr\u001b[49m\u001b[43m,\u001b[49m\u001b[43m \u001b[49m\u001b[43mindexer\u001b[49m\u001b[43m,\u001b[49m\u001b[43m \u001b[49m\u001b[43maxis_name\u001b[49m\u001b[43m)\u001b[49m\n\u001b[1;32m   6202\u001b[0m keyarr \u001b[38;5;241m=\u001b[39m \u001b[38;5;28mself\u001b[39m\u001b[38;5;241m.\u001b[39mtake(indexer)\n\u001b[1;32m   6203\u001b[0m \u001b[38;5;28;01mif\u001b[39;00m \u001b[38;5;28misinstance\u001b[39m(key, Index):\n\u001b[1;32m   6204\u001b[0m     \u001b[38;5;66;03m# GH 42790 - Preserve name from an Index\u001b[39;00m\n",
      "File \u001b[0;32m~/.local/lib/python3.10/site-packages/pandas/core/indexes/base.py:6249\u001b[0m, in \u001b[0;36mIndex._raise_if_missing\u001b[0;34m(self, key, indexer, axis_name)\u001b[0m\n\u001b[1;32m   6247\u001b[0m \u001b[38;5;28;01mif\u001b[39;00m nmissing:\n\u001b[1;32m   6248\u001b[0m     \u001b[38;5;28;01mif\u001b[39;00m nmissing \u001b[38;5;241m==\u001b[39m \u001b[38;5;28mlen\u001b[39m(indexer):\n\u001b[0;32m-> 6249\u001b[0m         \u001b[38;5;28;01mraise\u001b[39;00m \u001b[38;5;167;01mKeyError\u001b[39;00m(\u001b[38;5;124mf\u001b[39m\u001b[38;5;124m\"\u001b[39m\u001b[38;5;124mNone of [\u001b[39m\u001b[38;5;132;01m{\u001b[39;00mkey\u001b[38;5;132;01m}\u001b[39;00m\u001b[38;5;124m] are in the [\u001b[39m\u001b[38;5;132;01m{\u001b[39;00maxis_name\u001b[38;5;132;01m}\u001b[39;00m\u001b[38;5;124m]\u001b[39m\u001b[38;5;124m\"\u001b[39m)\n\u001b[1;32m   6251\u001b[0m     not_found \u001b[38;5;241m=\u001b[39m \u001b[38;5;28mlist\u001b[39m(ensure_index(key)[missing_mask\u001b[38;5;241m.\u001b[39mnonzero()[\u001b[38;5;241m0\u001b[39m]]\u001b[38;5;241m.\u001b[39munique())\n\u001b[1;32m   6252\u001b[0m     \u001b[38;5;28;01mraise\u001b[39;00m \u001b[38;5;167;01mKeyError\u001b[39;00m(\u001b[38;5;124mf\u001b[39m\u001b[38;5;124m\"\u001b[39m\u001b[38;5;132;01m{\u001b[39;00mnot_found\u001b[38;5;132;01m}\u001b[39;00m\u001b[38;5;124m not in index\u001b[39m\u001b[38;5;124m\"\u001b[39m)\n",
      "\u001b[0;31mKeyError\u001b[0m: \"None of [Index(['player_name', 'team_abbreviation', 'scorer_score', 'playmaker_score',\\n       'rebounder_score', 'defender_score', 'utility_score', 'predicted_role'],\\n      dtype='object')] are in the [columns]\""
     ]
    }
   ],
   "source": [
    "optimal_team_df = pd.DataFrame(optimal_team)\n",
    "print(\"\\nOptimal 5-Man Team Based on Separate Role-Specific Models (with Unique Selections):\")\n",
    "print(optimal_team_df[['player_name', 'team_abbreviation', 'scorer_score', 'playmaker_score', \n",
    "                       'rebounder_score', 'defender_score', 'utility_score', 'predicted_role']])\n"
   ]
  },
  {
   "cell_type": "markdown",
   "id": "8b12a271-c338-4b4d-8206-01b9a7c8b501",
   "metadata": {},
   "source": [
    "This code section creates a DataFrame, optimal_team_df, from the list of selected players for the optimal basketball team. It prints a message indicating the display of the optimal five-man team and then outputs specific columns, including player names, team abbreviations, various role-related scores, and the assigned predicted roles. This structured presentation helps visualize the team's composition and highlights each player's performance metrics in their respective roles."
   ]
  },
  {
   "cell_type": "code",
   "execution_count": 17,
   "id": "1f43a64d-f84f-4971-a037-58cf6c5a0395",
   "metadata": {},
   "outputs": [
    {
     "ename": "NameError",
     "evalue": "name 'scorer_grid' is not defined",
     "output_type": "error",
     "traceback": [
      "\u001b[0;31m---------------------------------------------------------------------------\u001b[0m",
      "\u001b[0;31mNameError\u001b[0m                                 Traceback (most recent call last)",
      "Cell \u001b[0;32mIn[17], line 21\u001b[0m\n\u001b[1;32m     16\u001b[0m         plt\u001b[38;5;241m.\u001b[39mtext(col, row, player[\u001b[38;5;124m'\u001b[39m\u001b[38;5;124mplayer_name\u001b[39m\u001b[38;5;124m'\u001b[39m], ha\u001b[38;5;241m=\u001b[39m\u001b[38;5;124m'\u001b[39m\u001b[38;5;124mcenter\u001b[39m\u001b[38;5;124m'\u001b[39m, va\u001b[38;5;241m=\u001b[39m\u001b[38;5;124m'\u001b[39m\u001b[38;5;124mcenter\u001b[39m\u001b[38;5;124m'\u001b[39m, \n\u001b[1;32m     17\u001b[0m                  color\u001b[38;5;241m=\u001b[39m\u001b[38;5;124m'\u001b[39m\u001b[38;5;124mblack\u001b[39m\u001b[38;5;124m'\u001b[39m, fontweight\u001b[38;5;241m=\u001b[39m\u001b[38;5;124m'\u001b[39m\u001b[38;5;124mbold\u001b[39m\u001b[38;5;124m'\u001b[39m, bbox\u001b[38;5;241m=\u001b[39m\u001b[38;5;28mdict\u001b[39m(facecolor\u001b[38;5;241m=\u001b[39m\u001b[38;5;124m'\u001b[39m\u001b[38;5;124mwhite\u001b[39m\u001b[38;5;124m'\u001b[39m, alpha\u001b[38;5;241m=\u001b[39m\u001b[38;5;241m0.7\u001b[39m, edgecolor\u001b[38;5;241m=\u001b[39m\u001b[38;5;124m'\u001b[39m\u001b[38;5;124mnone\u001b[39m\u001b[38;5;124m'\u001b[39m))\n\u001b[1;32m     19\u001b[0m     plt\u001b[38;5;241m.\u001b[39mshow()\n\u001b[0;32m---> 21\u001b[0m plot_heatmap_with_selection(\u001b[43mscorer_grid\u001b[49m, \u001b[38;5;124m'\u001b[39m\u001b[38;5;124mScorer\u001b[39m\u001b[38;5;124m'\u001b[39m, scorer_candidates)\n\u001b[1;32m     22\u001b[0m plot_heatmap_with_selection(playmaker_grid, \u001b[38;5;124m'\u001b[39m\u001b[38;5;124mPlaymaker\u001b[39m\u001b[38;5;124m'\u001b[39m, playmaker_candidates)\n\u001b[1;32m     23\u001b[0m plot_heatmap_with_selection(rebounder_grid, \u001b[38;5;124m'\u001b[39m\u001b[38;5;124mRebounder\u001b[39m\u001b[38;5;124m'\u001b[39m, rebounder_candidates)\n",
      "\u001b[0;31mNameError\u001b[0m: name 'scorer_grid' is not defined"
     ]
    }
   ],
   "source": [
    "def plot_heatmap_with_selection(grid, role_name, candidates_df):\n",
    "    plt.figure(figsize=(8, 6))\n",
    "    im = plt.imshow(grid, cmap='RdBu_r', interpolation='nearest')\n",
    "    plt.colorbar(label='Predicted Score')\n",
    "    plt.title(f'{role_name} Heatmap of Predicted Scores')\n",
    "    plt.xlabel('Columns')\n",
    "    plt.ylabel('Rows')\n",
    "    plt.xticks(ticks=np.arange(10), labels=np.arange(1, 11))\n",
    "    plt.yticks(ticks=np.arange(10), labels=np.arange(1, 11))\n",
    "    \n",
    "\n",
    "    selected_player = optimal_team_df[optimal_team_df['predicted_role'] == role_name]\n",
    "    for _, player in selected_player.iterrows():\n",
    "        grid_index = candidates_df[candidates_df['player_name'] == player['player_name']].index[0]\n",
    "        row, col = divmod(grid_index, 10)\n",
    "        plt.text(col, row, player['player_name'], ha='center', va='center', \n",
    "                 color='black', fontweight='bold', bbox=dict(facecolor='white', alpha=0.7, edgecolor='none'))\n",
    "    \n",
    "    plt.show()\n",
    "\n",
    "plot_heatmap_with_selection(scorer_grid, 'Scorer', scorer_candidates)\n",
    "plot_heatmap_with_selection(playmaker_grid, 'Playmaker', playmaker_candidates)\n",
    "plot_heatmap_with_selection(rebounder_grid, 'Rebounder', rebounder_candidates)\n",
    "plot_heatmap_with_selection(defender_grid, 'Defender', defender_candidates)\n",
    "plot_heatmap_with_selection(utility_grid, 'Utility', utility_candidates)"
   ]
  },
  {
   "cell_type": "code",
   "execution_count": null,
   "id": "b7405093-9ba5-4cde-aa53-1f108aadac68",
   "metadata": {},
   "outputs": [],
   "source": []
  },
  {
   "cell_type": "code",
   "execution_count": null,
   "id": "79bbca4f-31ee-4468-a817-dd924a95118d",
   "metadata": {},
   "outputs": [],
   "source": []
  },
  {
   "cell_type": "code",
   "execution_count": null,
   "id": "a8921f78-cc74-4580-8764-089272344913",
   "metadata": {},
   "outputs": [],
   "source": []
  },
  {
   "cell_type": "code",
   "execution_count": null,
   "id": "00b7c5dd-4305-4790-b4ca-d57281c534dd",
   "metadata": {},
   "outputs": [],
   "source": []
  },
  {
   "cell_type": "code",
   "execution_count": null,
   "id": "01d1947b-668c-4570-9241-f0efd88b5640",
   "metadata": {},
   "outputs": [],
   "source": []
  },
  {
   "cell_type": "code",
   "execution_count": null,
   "id": "ab354df8-a2e7-472c-8b62-c25e08ce553c",
   "metadata": {},
   "outputs": [],
   "source": []
  },
  {
   "cell_type": "code",
   "execution_count": null,
   "id": "593e4dd5-d461-4f67-82e2-f14cab903fc3",
   "metadata": {},
   "outputs": [],
   "source": []
  },
  {
   "cell_type": "code",
   "execution_count": null,
   "id": "4385cc20-f8db-4538-854a-836cb0306e41",
   "metadata": {},
   "outputs": [],
   "source": []
  }
 ],
 "metadata": {
  "kernelspec": {
   "display_name": "Python 3 (ipykernel)",
   "language": "python",
   "name": "python3"
  },
  "language_info": {
   "codemirror_mode": {
    "name": "ipython",
    "version": 3
   },
   "file_extension": ".py",
   "mimetype": "text/x-python",
   "name": "python",
   "nbconvert_exporter": "python",
   "pygments_lexer": "ipython3",
   "version": "3.10.12"
  }
 },
 "nbformat": 4,
 "nbformat_minor": 5
}
